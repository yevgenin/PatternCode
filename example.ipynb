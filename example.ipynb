{
 "cells": [
  {
   "cell_type": "code",
   "execution_count": 54,
   "outputs": [],
   "source": [
    "from Bio import SeqIO\n",
    "\n",
    "from patterncode.tool import *"
   ],
   "metadata": {
    "collapsed": false
   }
  },
  {
   "cell_type": "markdown",
   "source": [
    "#   Pick a human chromosome"
   ],
   "metadata": {
    "collapsed": false
   }
  },
  {
   "cell_type": "code",
   "execution_count": 55,
   "metadata": {
    "collapsed": true
   },
   "outputs": [
    {
     "data": {
      "text/plain": "SeqRecord(seq=Seq('NNNNNNNNNNNNNNNNNNNNNNNNNNNNNNNNNNNNNNNNNNNNNNNNNNNNNN...NNN'), id='NC_000001.11', name='NC_000001.11', description='NC_000001.11 Homo sapiens chromosome 1, GRCh38.p14 Primary Assembly', dbxrefs=[])"
     },
     "execution_count": 55,
     "metadata": {},
     "output_type": "execute_result"
    }
   ],
   "source": [
    "for record in SeqIO.parse(HUMAN_GENOME_FASTA_FILE, 'fasta'):\n",
    "    if 'Homo sapiens chromosome 1' in record.description:\n",
    "        break\n",
    "else:\n",
    "    raise ValueError\n",
    "\n",
    "record"
   ]
  },
  {
   "cell_type": "markdown",
   "source": [
    "#   Take an example subsequence"
   ],
   "metadata": {
    "collapsed": false
   }
  },
  {
   "cell_type": "code",
   "execution_count": 56,
   "outputs": [
    {
     "name": "stdout",
     "output_type": "stream",
     "text": [
      "ATACATTTTATCTTAAGAATTAAGTTGGTCTGGGTGCAGTGGCTCACACCTGTAATCCCAGCACTTTGGGATGCTGAGGC\n"
     ]
    }
   ],
   "source": [
    "sequence = str(record.seq[:10000000].upper())\n",
    "print(sequence[-80:])"
   ],
   "metadata": {
    "collapsed": false
   }
  },
  {
   "cell_type": "markdown",
   "source": [
    "#   Compute label detection likelihood"
   ],
   "metadata": {
    "collapsed": false
   }
  },
  {
   "cell_type": "code",
   "execution_count": 57,
   "outputs": [
    {
     "data": {
      "text/plain": "LikelihoodModel(tpr=0.9, fpr=0.1, p_y_given_x=[[0.9, 0.1], [0.08999999999999997, 0.91]], bin_size=1000)"
     },
     "execution_count": 57,
     "metadata": {},
     "output_type": "execute_result"
    }
   ],
   "source": [
    "likelihood_model = LikelihoodModel(\n",
    "    tpr=.9,\n",
    "    fpr=.1,\n",
    "    bin_size=1000,\n",
    ")\n",
    "likelihood_model"
   ],
   "metadata": {
    "collapsed": false
   }
  },
  {
   "cell_type": "markdown",
   "source": [
    "#   Compute error probability"
   ],
   "metadata": {
    "collapsed": false
   }
  },
  {
   "cell_type": "code",
   "execution_count": 58,
   "outputs": [
    {
     "data": {
      "text/plain": "PatternTool(pattern='CTTAAG', fragment_len=50000, bin_size=1000, genome_len=10000000, p_x=array([0.8727, 0.1273]), p_y_given_x=[[0.9, 0.1], [0.08999999999999997, 0.91]], p_err=0.38725665000900616)"
     },
     "execution_count": 58,
     "metadata": {},
     "output_type": "execute_result"
    }
   ],
   "source": [
    "pattern_tool = PatternTool(\n",
    "    sequence=sequence, pattern='CTTAAG', p_y_given_x=likelihood_model.p_y_given_x,\n",
    "    bin_size=likelihood_model.bin_size,\n",
    ")\n",
    "pattern_tool"
   ],
   "metadata": {
    "collapsed": false
   }
  }
 ],
 "metadata": {
  "kernelspec": {
   "display_name": "Python 3",
   "language": "python",
   "name": "python3"
  },
  "language_info": {
   "codemirror_mode": {
    "name": "ipython",
    "version": 2
   },
   "file_extension": ".py",
   "mimetype": "text/x-python",
   "name": "python",
   "nbconvert_exporter": "python",
   "pygments_lexer": "ipython2",
   "version": "2.7.6"
  }
 },
 "nbformat": 4,
 "nbformat_minor": 0
}
